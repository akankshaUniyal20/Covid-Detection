{
  "nbformat": 4,
  "nbformat_minor": 0,
  "metadata": {
    "colab": {
      "name": " covid_19.ipynb",
      "provenance": [],
      "collapsed_sections": [],
      "mount_file_id": "1WYiKM4ND0TXHQX4BnuDjfx71FnsadWh2",
      "authorship_tag": "ABX9TyOkilXMhlerl1LqIMdsnznS",
      "include_colab_link": true
    },
    "kernelspec": {
      "name": "python3",
      "display_name": "Python 3"
    },
    "language_info": {
      "name": "python"
    }
  },
  "cells": [
    {
      "cell_type": "markdown",
      "metadata": {
        "id": "view-in-github",
        "colab_type": "text"
      },
      "source": [
        "<a href=\"https://colab.research.google.com/github/akankshaUniyal20/Covid-Detection/blob/main/covid_19.ipynb\" target=\"_parent\"><img src=\"https://colab.research.google.com/assets/colab-badge.svg\" alt=\"Open In Colab\"/></a>"
      ]
    },
    {
      "cell_type": "code",
      "execution_count": null,
      "metadata": {
        "colab": {
          "base_uri": "https://localhost:8080/"
        },
        "id": "w67UeogG1Jm9",
        "outputId": "1e49751d-3d78-4611-95e1-588c63d83a4c"
      },
      "outputs": [
        {
          "output_type": "stream",
          "name": "stdout",
          "text": [
            "Mounted at /content/drive\n"
          ]
        }
      ],
      "source": [
        "from google.colab import drive\n",
        "drive.mount('/content/drive')"
      ]
    },
    {
      "cell_type": "code",
      "source": [
        "import numpy as np\n",
        "import matplotlib.pyplot as plt\n",
        "\n",
        "import keras\n",
        "\n",
        "from keras.layers import Dense , Conv2D , MaxPool2D , Dropout , Flatten\n",
        "from keras.models import Sequential\n",
        "from keras.preprocessing import image\n"
      ],
      "metadata": {
        "id": "j-XFkINU89Vf"
      },
      "execution_count": null,
      "outputs": []
    },
    {
      "cell_type": "code",
      "source": [
        "import tensorflow as tf\n",
        "from keras.preprocessing.image import ImageDataGenerator"
      ],
      "metadata": {
        "id": "75LVySl020Za"
      },
      "execution_count": null,
      "outputs": []
    },
    {
      "cell_type": "markdown",
      "source": [
        "#Data Preprocesing\n"
      ],
      "metadata": {
        "id": "JKiEODjK2ng4"
      }
    },
    {
      "cell_type": "code",
      "source": [
        "train_datagen = image.ImageDataGenerator(\n",
        "    rescale = 1/255,horizontal_flip = True , zoom_range = 0.2, shear_range = 0.2\n",
        ")"
      ],
      "metadata": {
        "id": "HmBMo9pj9jp3"
      },
      "execution_count": null,
      "outputs": []
    },
    {
      "cell_type": "code",
      "source": [
        "test_datagen = ImageDataGenerator(rescale = 1./255)"
      ],
      "metadata": {
        "id": "YHhk-s1NEhxA"
      },
      "execution_count": null,
      "outputs": []
    },
    {
      "cell_type": "code",
      "source": [
        "training_set = train_datagen.flow_from_directory('//content//drive//MyDrive//Covid_19Dataset//Training_dataset',\n",
        "                                                 target_size = (256, 256),\n",
        "                                                 batch_size = 16,\n",
        "                                                 class_mode = 'binary')"
      ],
      "metadata": {
        "colab": {
          "base_uri": "https://localhost:8080/"
        },
        "id": "J80H0kaR3CWi",
        "outputId": "f741c543-ae5a-4041-cf48-6c1cde4b9b35"
      },
      "execution_count": null,
      "outputs": [
        {
          "output_type": "stream",
          "name": "stdout",
          "text": [
            "Found 2451 images belonging to 2 classes.\n"
          ]
        }
      ]
    },
    {
      "cell_type": "code",
      "source": [
        "test_set = test_datagen.flow_from_directory('//content//drive//MyDrive//Covid_19Dataset//Testing_dataset',\n",
        "                                            target_size = (256, 256),\n",
        "                                            batch_size = 16,\n",
        "                                            class_mode = 'binary')"
      ],
      "metadata": {
        "colab": {
          "base_uri": "https://localhost:8080/"
        },
        "id": "oQ47uK1m5U_-",
        "outputId": "f23e23c8-1223-4292-95a7-1d999b53f3a2"
      },
      "execution_count": null,
      "outputs": [
        {
          "output_type": "stream",
          "name": "stdout",
          "text": [
            "Found 420 images belonging to 2 classes.\n"
          ]
        }
      ]
    },
    {
      "cell_type": "code",
      "source": [
        "valid_set = test_datagen.flow_from_directory('//content//drive//MyDrive//Covid_19Dataset//Validating_dataset',\n",
        "                                            target_size = (256, 256),\n",
        "                                            batch_size = 16,\n",
        "                                            class_mode = 'binary')"
      ],
      "metadata": {
        "colab": {
          "base_uri": "https://localhost:8080/"
        },
        "id": "UjMGpULkFv6k",
        "outputId": "43c2ec3b-e2b7-40e5-caec-70e3362396de"
      },
      "execution_count": null,
      "outputs": [
        {
          "output_type": "stream",
          "name": "stdout",
          "text": [
            "Found 288 images belonging to 2 classes.\n"
          ]
        }
      ]
    },
    {
      "cell_type": "code",
      "source": [
        "training_set.class_indices"
      ],
      "metadata": {
        "colab": {
          "base_uri": "https://localhost:8080/"
        },
        "id": "wVqjihC353bP",
        "outputId": "e9e8422a-0cec-4809-c055-d505d72f05b0"
      },
      "execution_count": null,
      "outputs": [
        {
          "output_type": "execute_result",
          "data": {
            "text/plain": [
              "{'Covid': 0, 'Normal': 1}"
            ]
          },
          "metadata": {},
          "execution_count": 9
        }
      ]
    },
    {
      "cell_type": "code",
      "source": [
        "test_set.class_indices"
      ],
      "metadata": {
        "colab": {
          "base_uri": "https://localhost:8080/"
        },
        "id": "4MyUu8Zv9Jc5",
        "outputId": "0587292b-33e2-45e7-feab-55c70e3301cf"
      },
      "execution_count": null,
      "outputs": [
        {
          "output_type": "execute_result",
          "data": {
            "text/plain": [
              "{'Covid': 0, 'Normal': 1}"
            ]
          },
          "metadata": {},
          "execution_count": 10
        }
      ]
    },
    {
      "cell_type": "code",
      "source": [
        "training_set.image_shape"
      ],
      "metadata": {
        "colab": {
          "base_uri": "https://localhost:8080/"
        },
        "id": "OerKjN-dB93R",
        "outputId": "bc03493c-0550-4971-989d-ea7287b9f980"
      },
      "execution_count": null,
      "outputs": [
        {
          "output_type": "execute_result",
          "data": {
            "text/plain": [
              "(256, 256, 3)"
            ]
          },
          "metadata": {},
          "execution_count": 11
        }
      ]
    },
    {
      "cell_type": "code",
      "source": [
        "from keras.layers.pooling import MaxPooling2D\n",
        "from keras.backend import conv2d\n",
        "from keras.layers.convolutional import Conv\n",
        "# cnn based model\n",
        " \n",
        "model = Sequential()\n",
        "model.add(Conv2D(32,kernel_size=(3,3),activation='relu',input_shape=(256,256,3)))\n",
        "model.add(MaxPooling2D(pool_size=(2,2)))\n",
        "model.add(Dropout(0.25))\n",
        "\n",
        "model.add(Conv2D(64,(3,3),activation='relu'))\n",
        "model.add(MaxPooling2D(pool_size=(2,2)))\n",
        "model.add(Dropout(0.5))\n",
        "\n",
        "\n",
        "model.add(Flatten())\n",
        "model.add(Dense(64,activation='relu'))\n",
        "model.add(Dropout(0.5))\n",
        "model.add(Dense(1,activation='sigmoid'))\n"
      ],
      "metadata": {
        "id": "SLao357n9wRG"
      },
      "execution_count": null,
      "outputs": []
    },
    {
      "cell_type": "code",
      "source": [
        "model.compile(loss=keras.losses.binary_crossentropy,optimizer='adam',metrics=['accuracy'])"
      ],
      "metadata": {
        "id": "Kfma-Yaq_ZYJ"
      },
      "execution_count": null,
      "outputs": []
    },
    {
      "cell_type": "code",
      "source": [
        "model.summary()"
      ],
      "metadata": {
        "colab": {
          "base_uri": "https://localhost:8080/"
        },
        "id": "9BwK29xo_ZUP",
        "outputId": "526749c2-6cf2-4885-db4c-b4b9e524313b"
      },
      "execution_count": null,
      "outputs": [
        {
          "output_type": "stream",
          "name": "stdout",
          "text": [
            "Model: \"sequential\"\n",
            "_________________________________________________________________\n",
            " Layer (type)                Output Shape              Param #   \n",
            "=================================================================\n",
            " conv2d (Conv2D)             (None, 254, 254, 32)      896       \n",
            "                                                                 \n",
            " max_pooling2d (MaxPooling2D  (None, 127, 127, 32)     0         \n",
            " )                                                               \n",
            "                                                                 \n",
            " dropout (Dropout)           (None, 127, 127, 32)      0         \n",
            "                                                                 \n",
            " conv2d_1 (Conv2D)           (None, 125, 125, 64)      18496     \n",
            "                                                                 \n",
            " max_pooling2d_1 (MaxPooling  (None, 62, 62, 64)       0         \n",
            " 2D)                                                             \n",
            "                                                                 \n",
            " dropout_1 (Dropout)         (None, 62, 62, 64)        0         \n",
            "                                                                 \n",
            " flatten (Flatten)           (None, 246016)            0         \n",
            "                                                                 \n",
            " dense (Dense)               (None, 64)                15745088  \n",
            "                                                                 \n",
            " dropout_2 (Dropout)         (None, 64)                0         \n",
            "                                                                 \n",
            " dense_1 (Dense)             (None, 1)                 65        \n",
            "                                                                 \n",
            "=================================================================\n",
            "Total params: 15,764,545\n",
            "Trainable params: 15,764,545\n",
            "Non-trainable params: 0\n",
            "_________________________________________________________________\n"
          ]
        }
      ]
    },
    {
      "cell_type": "code",
      "source": [
        "callback = tf.keras.callbacks.EarlyStopping(monitor='val_loss',patience=4, restore_best_weights=True)"
      ],
      "metadata": {
        "id": "xRlf0YR3gijn"
      },
      "execution_count": null,
      "outputs": []
    },
    {
      "cell_type": "code",
      "source": [
        "model.fit( training_set ,epochs=50,validation_data = valid_set,callbacks=[callback])"
      ],
      "metadata": {
        "colab": {
          "base_uri": "https://localhost:8080/"
        },
        "id": "GSGSv2AEpANF",
        "outputId": "e50a1d26-6ccd-4373-ba5b-1775dd9ccf9b"
      },
      "execution_count": null,
      "outputs": [
        {
          "output_type": "stream",
          "name": "stdout",
          "text": [
            "Epoch 1/50\n",
            "154/154 [==============================] - 585s 4s/step - loss: 0.6924 - accuracy: 0.7895 - val_loss: 0.2703 - val_accuracy: 0.9132\n",
            "Epoch 2/50\n",
            "154/154 [==============================] - 341s 2s/step - loss: 0.2184 - accuracy: 0.9168 - val_loss: 0.2013 - val_accuracy: 0.9236\n",
            "Epoch 3/50\n",
            "154/154 [==============================] - 345s 2s/step - loss: 0.1725 - accuracy: 0.9331 - val_loss: 0.2019 - val_accuracy: 0.9132\n",
            "Epoch 4/50\n",
            "154/154 [==============================] - 344s 2s/step - loss: 0.1670 - accuracy: 0.9347 - val_loss: 0.1994 - val_accuracy: 0.9201\n",
            "Epoch 5/50\n",
            "154/154 [==============================] - 340s 2s/step - loss: 0.1492 - accuracy: 0.9441 - val_loss: 0.1852 - val_accuracy: 0.9306\n",
            "Epoch 6/50\n",
            "154/154 [==============================] - 344s 2s/step - loss: 0.1469 - accuracy: 0.9466 - val_loss: 0.1460 - val_accuracy: 0.9549\n",
            "Epoch 7/50\n",
            "154/154 [==============================] - 340s 2s/step - loss: 0.1320 - accuracy: 0.9506 - val_loss: 0.1956 - val_accuracy: 0.9306\n",
            "Epoch 8/50\n",
            "154/154 [==============================] - 354s 2s/step - loss: 0.1274 - accuracy: 0.9506 - val_loss: 0.1348 - val_accuracy: 0.9410\n",
            "Epoch 9/50\n",
            "154/154 [==============================] - 358s 2s/step - loss: 0.1178 - accuracy: 0.9580 - val_loss: 0.1013 - val_accuracy: 0.9722\n",
            "Epoch 10/50\n",
            "154/154 [==============================] - 416s 3s/step - loss: 0.1262 - accuracy: 0.9523 - val_loss: 0.2066 - val_accuracy: 0.8993\n",
            "Epoch 11/50\n",
            "154/154 [==============================] - 383s 2s/step - loss: 0.1137 - accuracy: 0.9555 - val_loss: 0.0923 - val_accuracy: 0.9722\n",
            "Epoch 12/50\n",
            "154/154 [==============================] - 441s 3s/step - loss: 0.1261 - accuracy: 0.9519 - val_loss: 0.1262 - val_accuracy: 0.9757\n",
            "Epoch 13/50\n",
            "154/154 [==============================] - 368s 2s/step - loss: 0.1164 - accuracy: 0.9584 - val_loss: 0.0798 - val_accuracy: 0.9792\n",
            "Epoch 14/50\n",
            "154/154 [==============================] - 358s 2s/step - loss: 0.0961 - accuracy: 0.9612 - val_loss: 0.1338 - val_accuracy: 0.9410\n",
            "Epoch 15/50\n",
            "154/154 [==============================] - 353s 2s/step - loss: 0.1024 - accuracy: 0.9637 - val_loss: 0.0933 - val_accuracy: 0.9792\n",
            "Epoch 16/50\n",
            "154/154 [==============================] - 332s 2s/step - loss: 0.0833 - accuracy: 0.9665 - val_loss: 0.0792 - val_accuracy: 0.9722\n",
            "Epoch 17/50\n",
            "154/154 [==============================] - 338s 2s/step - loss: 0.0849 - accuracy: 0.9661 - val_loss: 0.0976 - val_accuracy: 0.9861\n",
            "Epoch 18/50\n",
            "154/154 [==============================] - 339s 2s/step - loss: 0.1010 - accuracy: 0.9641 - val_loss: 0.0865 - val_accuracy: 0.9688\n",
            "Epoch 19/50\n",
            "154/154 [==============================] - 349s 2s/step - loss: 0.0822 - accuracy: 0.9743 - val_loss: 0.0475 - val_accuracy: 0.9896\n",
            "Epoch 20/50\n",
            "154/154 [==============================] - 343s 2s/step - loss: 0.0734 - accuracy: 0.9763 - val_loss: 0.0527 - val_accuracy: 0.9826\n",
            "Epoch 21/50\n",
            "154/154 [==============================] - 369s 2s/step - loss: 0.0748 - accuracy: 0.9731 - val_loss: 0.0495 - val_accuracy: 0.9861\n",
            "Epoch 22/50\n",
            "154/154 [==============================] - 378s 2s/step - loss: 0.0723 - accuracy: 0.9751 - val_loss: 0.0413 - val_accuracy: 0.9861\n",
            "Epoch 23/50\n",
            "154/154 [==============================] - 365s 2s/step - loss: 0.0686 - accuracy: 0.9727 - val_loss: 0.0825 - val_accuracy: 0.9583\n",
            "Epoch 24/50\n",
            "154/154 [==============================] - 377s 2s/step - loss: 0.0640 - accuracy: 0.9731 - val_loss: 0.0460 - val_accuracy: 0.9826\n",
            "Epoch 25/50\n",
            "154/154 [==============================] - 389s 3s/step - loss: 0.0719 - accuracy: 0.9739 - val_loss: 0.0526 - val_accuracy: 0.9826\n",
            "Epoch 26/50\n",
            "154/154 [==============================] - 371s 2s/step - loss: 0.0704 - accuracy: 0.9727 - val_loss: 0.0520 - val_accuracy: 0.9826\n"
          ]
        },
        {
          "output_type": "execute_result",
          "data": {
            "text/plain": [
              "<keras.callbacks.History at 0x7f0dc912c0d0>"
            ]
          },
          "metadata": {},
          "execution_count": 18
        }
      ]
    },
    {
      "cell_type": "code",
      "source": [
        "model.evaluate(test_set)"
      ],
      "metadata": {
        "id": "IerklJ37GDXd",
        "colab": {
          "base_uri": "https://localhost:8080/"
        },
        "outputId": "c960b2d9-8100-4e23-dbeb-4d6dc78ccf76"
      },
      "execution_count": null,
      "outputs": [
        {
          "output_type": "stream",
          "name": "stdout",
          "text": [
            "27/27 [==============================] - 20s 720ms/step - loss: 0.0801 - accuracy: 0.9714\n"
          ]
        },
        {
          "output_type": "execute_result",
          "data": {
            "text/plain": [
              "[0.08008236438035965, 0.9714285731315613]"
            ]
          },
          "metadata": {},
          "execution_count": 20
        }
      ]
    }
  ]
}